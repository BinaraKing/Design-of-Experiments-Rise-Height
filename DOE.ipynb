{
 "cells": [
  {
   "cell_type": "markdown",
   "id": "9effdaf4-262b-493b-a9a9-8e09a89ab1af",
   "metadata": {},
   "source": [
    "# **Design of Experiment - Rise of Muffin Height**"
   ]
  },
  {
   "cell_type": "markdown",
   "id": "38289edd-6321-4023-8cc5-8b17d75d0552",
   "metadata": {},
   "source": []
  }
 ],
 "metadata": {
  "kernelspec": {
   "display_name": "Python 3 (ipykernel)",
   "language": "python",
   "name": "python3"
  },
  "language_info": {
   "codemirror_mode": {
    "name": "ipython",
    "version": 3
   },
   "file_extension": ".py",
   "mimetype": "text/x-python",
   "name": "python",
   "nbconvert_exporter": "python",
   "pygments_lexer": "ipython3",
   "version": "3.9.13"
  }
 },
 "nbformat": 4,
 "nbformat_minor": 5
}
